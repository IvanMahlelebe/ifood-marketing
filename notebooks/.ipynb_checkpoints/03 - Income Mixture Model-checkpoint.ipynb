{
 "cells": [
  {
   "cell_type": "code",
   "execution_count": null,
   "id": "51d177b4-ef22-4a4d-a99c-341a673fea6e",
   "metadata": {},
   "outputs": [],
   "source": [
    "import matplotlib.pyplot as plt;\n",
    "\n",
    "%matplotlib inline\n",
    "import seaborn as sns; sns.set_context('notebook')\n",
    "from IPython.core.pylabtools import figsize\n",
    "\n",
    "matplotlib_style = 'fivethirtyeight'\n",
    "plt.style.use(matplotlib_style)\n",
    "\n",
    "notebook_screen_res = 'retina'\n",
    "%config InlineBackend.figure_format = notebook_screen_res"
   ]
  },
  {
   "cell_type": "code",
   "execution_count": null,
   "id": "d62ca3a8-acd7-4cbb-885a-5ac17218eb9e",
   "metadata": {},
   "outputs": [],
   "source": [
    "import pandas as pd\n",
    "import numpy as np\n",
    "\n",
    "import arviz as az\n",
    "import pymc as pm\n",
    "import pytensor.tensor as pt\n",
    "import pytensor"
   ]
  },
  {
   "cell_type": "code",
   "execution_count": null,
   "id": "a657cb6a-3cad-4680-8c87-64d0fa3c421a",
   "metadata": {},
   "outputs": [],
   "source": [
    "# Global variables\n",
    "GREY_COLOUR = '#B4B4B3'\n",
    "RED_COLOUR0 = '#F78CA2'\n",
    "RED_COLOUR1 = '#E8466A'\n",
    "RED_COLOUR2 = '#D80032'"
   ]
  },
  {
   "cell_type": "code",
   "execution_count": null,
   "id": "3469dd3f-b007-4ca5-a202-5ecc922e5db2",
   "metadata": {},
   "outputs": [],
   "source": [
    "data = pd.read_csv(\"../data/clean-ifood-data.csv\")\n",
    "data.head()"
   ]
  },
  {
   "cell_type": "code",
   "execution_count": null,
   "id": "49ae630d-2449-44ee-bcf9-eef152b0fcce",
   "metadata": {},
   "outputs": [],
   "source": [
    "figsize(12.5, 4)\n",
    "\n",
    "plt.hist(data['Income'], bins=50, color=RED_COLOUR2, histtype=\"stepfilled\", alpha=0.8)\n",
    "plt.title(\"CUSTOMERS' INCOME DISTRIBUTION\", fontsize=12, fontweight='bold', loc='left')\n",
    "plt.xlabel(\"Customers' incomes\")\n",
    "plt.ylim([0, None]);"
   ]
  },
  {
   "cell_type": "markdown",
   "id": "7d78742a-9ecc-4c5d-b5b3-2959976fe78d",
   "metadata": {},
   "source": [
    "## Categorizing Customers By Income\n",
    "\n",
    "First time I saw this distribution, I developed a feeling that our dataset might just have two types of earners. I am therefore going to follow-through with this idea and write a mixture model that can either confirm or deny this idea.\n",
    "\n",
    "### Model Specification\n",
    "The - seemingly - bimodal nature of this distribution makes me think that perhaps we have two types of customers as far as their incomes are concerned. To that end, I think it's more practical that these two types come from oppositely skewed Normal distributions like the Kappa logo. \\\n",
    "To be more concrete, I think I'm going to have two `Skew-Normal Distributions` which has 3 parameters $\\mu$, $\\tau$ and $\\alpha$, so I'll assume the following as my priors:\n",
    "$$\\pmb{\\mu} \\sim \\mathcal{N}([4000, 7000], 1000)$$\n",
    "$$\\pmb{\\tau} \\sim \\frac{1}{\\pmb{\\sigma^{2}}}, \\text{where } \\sigma \\sim \\mathcal{U}(1, 1000)$$\n",
    "$$\\alpha_{1} \\sim \\mathcal{U}(0, 100), \\alpha_{2} \\sim \\mathcal{U}(-100, 0)$$\n",
    "So the likelihood will be:\n",
    "$$\\text{likelihood} \\sim \\mathcal{SN}(\\pmb{\\mu}, \\pmb{\\tau}, \\pmb{\\alpha})$$"
   ]
  },
  {
   "cell_type": "code",
   "execution_count": null,
   "id": "c7834e22-9c3c-4d04-95d1-16814c66464e",
   "metadata": {},
   "outputs": [],
   "source": [
    "sub_groups_num = 2\n",
    "with pm.Model() as income_mixture_model:\n",
    "    weights = pm.Dirichlet('weights', a=np.array([1, 1]), shape=sub_groups_num)\n",
    "    μ = pm.Normal('μ', mu=np.array([4000.0, 7000.0]), sigma=1000, shape=sub_groups_num)\n",
    "\n",
    "    # defining τ without syntactic sugar. Don't know how to make it succinct\n",
    "    sigma1 = pm.Uniform('sigma1', 1, 1000)\n",
    "    sigma2 = pm.Uniform('sigma2', 1, 1000)\n",
    "    tau1 = 1 / sigma1**2\n",
    "    tau2 = 1 / sigma2**2\n",
    "    tau = pm.math.stack([tau1, tau2])\n",
    "\n",
    "    alpha1 = pm.Uniform('alpha1', 0, 100)\n",
    "    alpha2 = pm.Uniform('alpha2', -100, 0)\n",
    "    alpha = pm.math.stack([alpha1, alpha2])\n",
    "\n",
    "    income_components = pm.SkewNormal.dist(alpha=alpha, mu=μ, tau=tau)\n",
    "\n",
    "    likelihood = pm.Mixture('likelihood', w=weights, comp_dists=income_components, observed=data['Income'])"
   ]
  },
  {
   "cell_type": "code",
   "execution_count": null,
   "id": "c0fcab05-d3d3-42b8-84a0-02c9d6ced26e",
   "metadata": {},
   "outputs": [],
   "source": [
    "pm.model_to_graphviz(income_mixture_model)"
   ]
  },
  {
   "cell_type": "markdown",
   "id": "aa11898b-25ee-47cd-8a65-4265fdaff151",
   "metadata": {},
   "source": [
    "### Prior Predictive Checking"
   ]
  },
  {
   "cell_type": "code",
   "execution_count": null,
   "id": "5d8d4f32-1a44-41c7-88e7-33aed5ef316d",
   "metadata": {},
   "outputs": [],
   "source": [
    "rng = np.random.default_rng(42)\n",
    "with income_mixture_model:\n",
    "    idata = pm.sample(random_seed=rng)"
   ]
  },
  {
   "cell_type": "code",
   "execution_count": null,
   "id": "5e217567-1b4b-4864-b7c9-741dedb03a99",
   "metadata": {},
   "outputs": [],
   "source": [
    "az.plot_trace(prior_pred_samples)"
   ]
  }
 ],
 "metadata": {
  "kernelspec": {
   "display_name": "Python 3 (ipykernel)",
   "language": "python",
   "name": "python3"
  },
  "language_info": {
   "codemirror_mode": {
    "name": "ipython",
    "version": 3
   },
   "file_extension": ".py",
   "mimetype": "text/x-python",
   "name": "python",
   "nbconvert_exporter": "python",
   "pygments_lexer": "ipython3",
   "version": "3.11.6"
  }
 },
 "nbformat": 4,
 "nbformat_minor": 5
}
